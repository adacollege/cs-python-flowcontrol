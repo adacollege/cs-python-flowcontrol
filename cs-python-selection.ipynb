{
 "cells": [
  {
   "cell_type": "markdown",
   "metadata": {},
   "source": [
    "# Selection\n",
    "\n",
    "Sometimes we only want a program to execute code under certain circumstances.  We call this selection.  The most commonly used way of doing this is using if.  Here we say if a condition is true execute some code. \n",
    "First we need to make sure we are happy what a condition is.  A boolean condition is one that can have only two values true or false. \n",
    "\n",
    "The boolean comparison operators are as follows:\n",
    " \n",
    "Operator Meaning\n",
    "\n",
    "symbol ==   Equal to\n",
    "\n",
    "symbol !=   Not equal to\n",
    "\n",
    "symbol <    Less than\n",
    "\n",
    "symbol <=  Less than or equal to\n",
    "\n",
    "symbol >    Greater than\n",
    "\n",
    "symbol >=   Greater than or equal to"
   ]
  },
  {
   "cell_type": "code",
   "execution_count": null,
   "metadata": {},
   "outputs": [],
   "source": [
    "letter = 'a'\n",
    "if letter =='a':\n",
    "    print('This prints if letter is a')"
   ]
  },
  {
   "cell_type": "markdown",
   "metadata": {},
   "source": [
    "We can add as many statements we want inside the if.  Each should be indented.\n",
    "We can tell the computer to do something different when the condition isn’t true using the else keyword."
   ]
  },
  {
   "cell_type": "code",
   "execution_count": null,
   "metadata": {},
   "outputs": [],
   "source": [
    "if letter =='a':\n",
    "    print('This prints if letter is a')\n",
    "else:\n",
    "    print('This prints if the letter is not an a')"
   ]
  },
  {
   "cell_type": "markdown",
   "metadata": {},
   "source": [
    "### Task 1:\n",
    "Write a program that tells the user what to wear (shorts, trousers, hat, coat, etc etc you choose) based on the temperature that they input.\n",
    "\n",
    "Use well-named variable(s), constants(s), string(s), type conversion, a complex IF statement, comparison and logical operators, and good input and output messages."
   ]
  },
  {
   "cell_type": "code",
   "execution_count": 2,
   "metadata": {},
   "outputs": [
    {
     "name": "stdout",
     "output_type": "stream",
     "text": [
      "Temperature  (In C) : 56\n",
      "Very hot, wear shorts and a tank top. Put on sunscreen\n"
     ]
    }
   ],
   "source": [
    "# add your code here\n",
    "Temp = float(input(\"Temperature  (In C) : \"))\n",
    "if Temp > 43.33 :\n",
    "    print(\"Very hot, wear shorts and a tank top. Put on sunscreen\")\n",
    "elif Temp > 26.67 :\n",
    "    print(\"Wear trousers/ skirt/dress. Light clothing since it might become hotter. Wear sunglasses\")\n",
    "elif Temp > 15 :\n",
    "    print(\"Wear normal  jeans and a long / short sleeve shirt\")\n",
    "else:\n",
    "    print(\"Quite cold. Wear joggers and sweatshirt or a coat with warm trousers\")"
   ]
  },
  {
   "cell_type": "markdown",
   "metadata": {},
   "source": [
    "### A Note on Indentation\n",
    "When you start a new line after a colon your code (if writing it inside IDLE) you should find your code indented).  Lines will keep indenting until you press backspace.  Python knows that anything indented is inside the structure with the colon - in this case the if.  Indenting is considered good practice in all programming languages as it makes code easier to read but in Python it is even more important as it affects the code’s meaning."
   ]
  },
  {
   "cell_type": "markdown",
   "metadata": {},
   "source": [
    "Copy and run sinle line of the code in the cell below and observe the results\n",
    "\n",
    "1 < x < 3\n",
    "\n",
    "10 < x < 20\n",
    "\n",
    "3 > x <= 2\n",
    "\n",
    "2 == x < 4"
   ]
  },
  {
   "cell_type": "code",
   "execution_count": 6,
   "metadata": {},
   "outputs": [
    {
     "data": {
      "text/plain": [
       "True"
      ]
     },
     "execution_count": 6,
     "metadata": {},
     "output_type": "execute_result"
    }
   ],
   "source": [
    "x = 2\n",
    "# write a single line of code here and run \n",
    "# observe the results\n",
    "3 > x <= 2\n",
    "\n"
   ]
  },
  {
   "cell_type": "code",
   "execution_count": 7,
   "metadata": {},
   "outputs": [
    {
     "name": "stdout",
     "output_type": "stream",
     "text": [
      "Enter a number between 1 and 100: 30\n",
      "You have entered a valid number\n"
     ]
    }
   ],
   "source": [
    "# input any number between 1 and 100\n",
    "x=int(input('Enter a number between 1 and 100: '))\n",
    "# check the validity of the number\n",
    "if x>=1 and x<=100:\n",
    "    print('You have entered a valid number')\n",
    "else:\n",
    "    print('Your number is not valid')"
   ]
  },
  {
   "cell_type": "markdown",
   "metadata": {},
   "source": [
    "A common mistake would be to write the if line as if x>=1 and <=100 missing out the second x.  Remove the x and check out the result. Does it generate an error?"
   ]
  },
  {
   "cell_type": "markdown",
   "metadata": {},
   "source": [
    "#### Logical operators\n",
    "For more complex conditions we can use AND, OR and NOT. \n",
    "\n",
    "AND : both conditions must be TRUE\n",
    "\n",
    "OR : one condition must be TRUE\n",
    "\n",
    "NOT : only applies to one condition - the opposite"
   ]
  },
  {
   "cell_type": "markdown",
   "metadata": {},
   "source": [
    "## Psuedocode example for IF/ELSE statements\n",
    "\n",
    "IF age > 12 AND height > 3 THEN\n",
    "\n",
    "  OUTPUT “You can ride the roller coaster”\n",
    "  \n",
    "END IF\n",
    "\n",
    "IF age <13 OR age > 19 THEN\n",
    "\n",
    "  OUTPUT “You are not eligible for teen discount”\n",
    "  \n",
    "END IF\n",
    "\n",
    "IF NOT ((age > 12) AND (height > 3)) THEN\n",
    "\n",
    "  OUTPUT “You cannot ride the roller coaster”\n",
    "  \n",
    "END IF"
   ]
  },
  {
   "cell_type": "markdown",
   "metadata": {},
   "source": [
    "##### Could you explain the logic for the above program?"
   ]
  },
  {
   "cell_type": "markdown",
   "metadata": {},
   "source": [
    "### Task 2:\n",
    "\n",
    "The grade boundaries for a test are:\n",
    "U -  0\n",
    "D – 40\n",
    "C – 50\n",
    "B – 60\n",
    "A – 70\n",
    "\n",
    "Write a Python program that asks for a mark and then says what grade it is worth."
   ]
  },
  {
   "cell_type": "code",
   "execution_count": 9,
   "metadata": {},
   "outputs": [
    {
     "name": "stdout",
     "output_type": "stream",
     "text": [
      "Grade : 75\n",
      "A\n"
     ]
    }
   ],
   "source": [
    "# write your code here\n",
    "Grade = int(input(\"Grade : \"))\n",
    "if Grade >= 70:\n",
    "    print(\"A\")\n",
    "elif Grade >= 60:\n",
    "    print(\"B\")\n",
    "elif Grade >= 50:\n",
    "    print(\"C\")\n",
    "elif Grade >= 40 :\n",
    "    print(\"D\")\n",
    "else:\n",
    "    print(\"U\")"
   ]
  },
  {
   "cell_type": "markdown",
   "metadata": {},
   "source": [
    "### Task 3:\n",
    "Write a Python program which asks the user to enter the cost of two items, adds the two costs and if the cost is greater than £10.00, displays a message “Sorry, too much”. Otherwise it displays the change due from £10.00."
   ]
  },
  {
   "cell_type": "code",
   "execution_count": 16,
   "metadata": {},
   "outputs": [
    {
     "name": "stdout",
     "output_type": "stream",
     "text": [
      "Item 1 price : 3\n",
      "Item 2 price : 2\n",
      "Change is £ 5.0\n"
     ]
    }
   ],
   "source": [
    "# write your code here\n",
    "Item1 = float(input(\"Item 1 price : \"))\n",
    "Item2 = float(input(\"Item 2 price : \"))\n",
    "All = Item1 + Item2\n",
    "if All > 10.00 :\n",
    "    print(\"Sorry, too much\")\n",
    "else:\n",
    "    print(\"Change is £\", 10.00 - All)"
   ]
  },
  {
   "cell_type": "markdown",
   "metadata": {},
   "source": [
    "### Task 4: Using IF-ELSE statements, write the Python program for the following problems.\n",
    "\n",
    "1) Allow entry to a movie if the user is older than 18 or if they are accompanied by an adult\n",
    "\n",
    "2) Allow the user to come to your party if they are a boy and they like pizza\n",
    "\n",
    "3) Remind the user to take an umbrella if the temperature is higher than 17 and the chance of rain is higher than 80%"
   ]
  },
  {
   "cell_type": "code",
   "execution_count": 20,
   "metadata": {},
   "outputs": [
    {
     "name": "stdout",
     "output_type": "stream",
     "text": [
      "Age : 66\n",
      "Allow entry\n",
      "Gender (F for Female) (M for Male) : F\n",
      "Do you like pizza (Y for Yes) (N for No) : N\n",
      "Not allowed to party\n",
      "Temperature : 63\n",
      "Chance of rain : 4\n",
      "Bye\n"
     ]
    }
   ],
   "source": [
    "# write your code here\n",
    "Age = int(input(\"Age : \"))\n",
    "if Age > 18 :\n",
    "    print(\"Allow entry\")\n",
    "else:\n",
    "    Adult = int(input(\"(1) type it if they do have an adult present. (2) if do not have adult with them\"))\n",
    "    if Adult == 1 :\n",
    "        print(\"Allow entry\")\n",
    "    else:\n",
    "        print(\"Deny entry\")\n",
    "        \n",
    "Gen = input(\"Gender (F for Female) (M for Male) : \")\n",
    "Piz = input(\"Do you like pizza (Y for Yes) (N for No) : \")\n",
    "if (Gen == \"M\" or Gen == \"m\") and (Piz == \"Y\" or Piz == \"y\"):\n",
    "    print(\"Allow to come to party\")\n",
    "else:\n",
    "    print(\"Not allowed to party\")\n",
    "\n",
    "Temp = float(input(\"Temperature : \"))\n",
    "ChangeOfRain = float(input(\"Chance of rain : \"))\n",
    "if (Temp > 17) and (ChangeOfRain > 80):\n",
    "    print(\"Bring umbrella\")\n",
    "else :\n",
    "    print(\"Bye\")"
   ]
  }
 ],
 "metadata": {
  "kernelspec": {
   "display_name": "Python 3",
   "language": "python",
   "name": "python3"
  },
  "language_info": {
   "codemirror_mode": {
    "name": "ipython",
    "version": 3
   },
   "file_extension": ".py",
   "mimetype": "text/x-python",
   "name": "python",
   "nbconvert_exporter": "python",
   "pygments_lexer": "ipython3",
   "version": "3.6.5"
  }
 },
 "nbformat": 4,
 "nbformat_minor": 2
}
